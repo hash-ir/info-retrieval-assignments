{
 "cells": [
  {
   "cell_type": "markdown",
   "metadata": {},
   "source": [
    "# Information Retrieval in High Dimensional Data\n",
    "### Assignment 1\n",
    "\n",
    "Members: Hashir Ahmad (03708887), Mohd Toaha Umar (), Florian Auinger (), Rasmus Schamper (), "
   ]
  },
  {
   "cell_type": "markdown",
   "metadata": {},
   "source": [
    "## Task 1"
   ]
  },
  {
   "cell_type": "markdown",
   "metadata": {},
   "source": [
    "$C_d = \\{\\mathbf{x} \\in \\mathbb{R}^p | {\\lVert\\mathbf{x}\\rVert}_{\\infty} \\leq \\frac{d}{2}\\}$\n",
    "\n",
    "a) $\\mathcal{Pr}(\\mathbf{X} \\in C_d) = q$\n",
    "\n",
    "$\\implies \\mathcal{Pr}({\\lVert\\mathbf{X}\\rVert}_{\\infty} \\leq \\frac{d}{2}\\} = q$\n",
    "\n",
    "$= \\mathcal{Pr}(max (\\lvert{X_1}\\rvert, \\lvert{X_2}\\rvert, ... , \\rvert{X_p}\\lvert \\leq \\frac{d}{2}) = q$\n",
    "\n",
    "$= \\mathcal{Pr}(\\lvert{X_1}\\rvert \\leq \\frac{d}{2}, \\lvert{X_2}\\rvert \\leq \\frac{d}{2}, ..., \\lvert{X_p}\\rvert \\leq \\frac{d}{2})$\n",
    "\n",
    "$= \\mathcal{Pr}(\\lvert{X_1}\\rvert \\leq \\frac{d}{2})\\mathcal{Pr}(\\lvert{X_2}\\rvert \\leq \\frac{d}{2})...\\mathcal{Pr}(\\lvert{X_p}\\rvert \\leq \\frac{d}{2}) = q$\n",
    "\n",
    "$= \\prod_{i=1}^{p}\\mathcal{Pr}(\\lvert{X_i}\\rvert \\leq \\frac{d}{2}) = q$\n",
    "\n",
    "Since X is uniformly distributed, $\\mathcal{Pr}(\\lvert{X_1}\\rvert) = \\mathcal{Pr}(\\lvert{X_2}\\rvert) = ... = \\mathcal{Pr}(\\lvert{X_p}\\rvert) = \\frac{1}{\\frac{d}{2} - (-\\frac{d}{2})} = \\frac{1}{d}$\n",
    "\n",
    "$\\implies (\\frac{1}{d})^p = q$\n",
    "\n",
    "or $d = \\frac{1}{q^\\frac{1}{p}}$\n",
    "\n",
    "b) $\\mathcal{Pr}(\\lvert{X^1}\\rvert \\leq 2.576) = 0.99$\n",
    "\n",
    "Now, $\\mathcal{Pr}(\\lVert{X^p}\\rVert_{\\infty} > 2.576) = 1 - \\mathcal{Pr}(\\lVert{X^p}\\rVert_{\\infty} \\leq 2.576)$\n",
    "\n",
    "$= 1 - \\mathcal{Pr}(max (\\lvert{X^1}\\rvert, \\lvert{X^2}\\rvert, ... , \\rvert{X^p}\\lvert) \\leq 2.576)$\n",
    "\n",
    "$= 1 - \\mathcal{Pr}(\\lvert{X^1}\\rvert \\leq 2.576, \\lvert{X^2}\\rvert \\leq 2.576, ..., \\lvert{X^p}\\rvert \\leq 2.576)$\n",
    "\n",
    "Since, the components of $X^p$ are independent,\n",
    "$= 1 - \\prod_{i=1}^{p}\\mathcal{Pr}(\\lvert{X^i}\\rvert \\leq 2.576)$\n",
    "\n",
    "$= 1 - (0.99)^p$\n",
    "\n",
    "* p = 2 $\\implies \\mathcal{Pr}(\\lVert{X^p}\\rVert_{\\infty} > 2.576) = 1 - (0.99)^2 = 0.0199$\n",
    "* p = 3 $\\implies \\mathcal{Pr}(\\lVert{X^p}\\rVert_{\\infty} > 2.576) = 1 - (0.99)^3 = 0.0297$\n",
    "* p = 500 $\\implies \\mathcal{Pr}(\\lVert{X^p}\\rVert_{\\infty} > 2.576) = 1 - (0.99)^{500} = 0.9934$"
   ]
  },
  {
   "cell_type": "markdown",
   "metadata": {},
   "source": [
    "## Task 2"
   ]
  },
  {
   "cell_type": "code",
   "execution_count": null,
   "metadata": {},
   "outputs": [],
   "source": []
  },
  {
   "cell_type": "markdown",
   "metadata": {},
   "source": [
    "## Task 3"
   ]
  },
  {
   "cell_type": "markdown",
   "metadata": {},
   "source": [
    "## Task 4\n",
    "\n",
    "### Definitions\n",
    "**Covariance Matrix:** $ \\mathbf{C} \\triangleq E\\{(\\mathbf{x}-E(\\mathbf{x})(\\mathbf{x}-E(\\mathbf{x}))^T\\} $ \\\n",
    "**Positive semi-definite:** A symmetric matrix $\\mathbf{C}$ of size $ n\\times n \\  $ is positive semi-definite if and only if $ \\mathbf{u}^T\\mathbf{C}\\mathbf{u}⩾0 $\n",
    "for every $ \\ n \\times 1 $ (column) vector $\\mathbf{u}$, where $\\mathbf{u}^T$ is the $ 1 \\times n $ transposed (line) \n",
    "vector. \n",
    "\n",
    "### Proof 1: Symmetric\n",
    "\n",
    "\\begin{array}{rcl}\n",
    "\\mathbf{C}^T & = &(E\\{(\\mathbf{x}-E(\\mathbf{x})(\\mathbf{x}-E(\\mathbf{x}))^T\\})^T \\\\\n",
    "& = & E\\{(\\mathbf{x}-E(\\mathbf{x}))^T((\\mathbf{x}-E(\\mathbf{x}))^T)^T\\} \\\\\n",
    "& = & E\\{(\\mathbf{x}-E(\\mathbf{x}))^T(\\mathbf{x}-E(\\mathbf{x}))\\} \\\\\n",
    "& = & E\\{(\\mathbf{x}-E(\\mathbf{x}))(\\mathbf{x}-E(\\mathbf{x}))^T\\} \\\\\n",
    "& = & \\mathbf{C}\n",
    "\\end{array}\n",
    "\n",
    "\n",
    "### Proof 2: Positive semi-definite\n",
    " \n",
    "For an arbitrary real vector $ \\mathbf{u} $, we can write,\n",
    "\n",
    "\\begin{array}{rcl}\n",
    "\\mathbf{u}^T\\mathbf{C}\\mathbf{u} & = & \\mathbf{u}^TE\\{(\\mathbf{x}-E(\\mathbf{x})(\\mathbf{x}-E(\\mathbf{x}))^T\\}\\mathbf{u} \\\\\n",
    "& = & E\\{\\mathbf{u}^T(\\mathbf{x}-E(\\mathbf{x})(\\mathbf{x}-E(\\mathbf{x}))^T\\mathbf{u}\\} \\ \\text{(Linearity of expectation)} \\\\\n",
    "& = & E\\{(\\mathbf{u}^T(\\mathbf{x}-E(\\mathbf{x})))^2\\} \\text{, where} \\ \\mathbf{u}^T(\\mathbf{x}-E(\\mathbf{x})) \\ \\text{is a is a real valued random variable} \\\\\n",
    "& \\ge & 0. \n",
    "\\end{array}\n",
    "\n",
    "\n",
    "The square of any real number is equal to or greater than zero. That is,\n",
    "$ (\\mathbf{u}^T(\\mathbf{x}-E(\\mathbf{x})))^2 \\ge 0 $.\n",
    "Thus,\n",
    "$ \\mathbf{u}^T\\mathbf{C}\\mathbf{u} \\ge 0 $ for any $\\mathbf{u}$.\n",
    "Which implies that covariance matrix of any real random vector is always positive semi-definite."
   ]
  },
  {
   "cell_type": "code",
   "execution_count": null,
   "metadata": {},
   "outputs": [],
   "source": []
  }
 ],
 "metadata": {
  "kernelspec": {
   "display_name": "Python [conda env:py37]",
   "language": "python",
   "name": "conda-env-py37-py"
  },
  "language_info": {
   "codemirror_mode": {
    "name": "ipython",
    "version": 3
   },
   "file_extension": ".py",
   "mimetype": "text/x-python",
   "name": "python",
   "nbconvert_exporter": "python",
   "pygments_lexer": "ipython3",
   "version": "3.7.4"
  }
 },
 "nbformat": 4,
 "nbformat_minor": 2
}
